{
  "nbformat": 4,
  "nbformat_minor": 0,
  "metadata": {
    "colab": {
      "name": "widget.ipynb",
      "provenance": [],
      "collapsed_sections": []
    },
    "kernelspec": {
      "name": "python3",
      "display_name": "Python 3"
    },
    "language_info": {
      "name": "python"
    }
  },
  "cells": [
    {
      "cell_type": "code",
      "metadata": {
        "id": "oKjy00uqtCw0"
      },
      "source": [
        "!pip install voila\n",
        "!jupyter serverextension enable --sys-prefix voila "
      ],
      "execution_count": null,
      "outputs": []
    },
    {
      "cell_type": "code",
      "metadata": {
        "id": "lFgMhRUr6le_"
      },
      "source": [
        "import ipywidgets as iw\n",
        "import PIL\n",
        "from fastai import vision\n",
        "from fastbook import *"
      ],
      "execution_count": 14,
      "outputs": []
    },
    {
      "cell_type": "code",
      "metadata": {
        "id": "s96ajXVL6uyh"
      },
      "source": [
        "upload_botton = iw.widgets.FileUpload(multiple = False)\n",
        "upload_botton"
      ],
      "execution_count": null,
      "outputs": []
    },
    {
      "cell_type": "code",
      "metadata": {
        "id": "bYmNgC_7it0w"
      },
      "source": [
        "prediction_label = iw.widgets.Label()\n",
        "prediction_label.value = f'Prediction: {prediction}; Probability: {probability[prediction_index]:.04f}'\n",
        "prediction_label"
      ],
      "execution_count": null,
      "outputs": []
    },
    {
      "cell_type": "code",
      "metadata": {
        "id": "RutGpcnhjMWt"
      },
      "source": [
        "operate_botton = iw.widgets.Button(description='Classify')\n",
        "operate_botton"
      ],
      "execution_count": null,
      "outputs": []
    },
    {
      "cell_type": "code",
      "metadata": {
        "id": "o8ygJBDljQIO"
      },
      "source": [
        "def on_click_classify(change):\n",
        "    img = PILImage.create(upload_botton.data[-1])\n",
        "    out_pl.clear_output()\n",
        "    with out_pl: display(img.to_thumb(128,128))\n",
        "    prediction,prediction_index,probability = learn_function.predict(img)\n",
        "    prediction_label.value = f'Prediction: {prediction}; Probability: {probability[prediction_index]:.04f}'\n",
        "\n",
        "operate_botton.on_click(on_click_classify)"
      ],
      "execution_count": 15,
      "outputs": []
    },
    {
      "cell_type": "code",
      "metadata": {
        "id": "p-S43yt6j2GY"
      },
      "source": [
        "upload_botton = widgets.FileUpload()"
      ],
      "execution_count": 16,
      "outputs": []
    },
    {
      "cell_type": "code",
      "metadata": {
        "id": "aScsJ7mjj8CJ"
      },
      "source": [
        "display(iw.VBox([widgets.Label('Grab Your Guitar For Detection'), \n",
        "      upload_botton, operate_botton, out_pl, prediction_label]))"
      ],
      "execution_count": null,
      "outputs": []
    }
  ]
}